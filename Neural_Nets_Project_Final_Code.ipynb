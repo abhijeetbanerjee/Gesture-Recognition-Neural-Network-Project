{
 "cells": [
  {
   "cell_type": "markdown",
   "metadata": {},
   "source": [
    "# Gesture Recognition\n",
    "In this group project, you are going to build a 3D Conv model that will be able to predict the 5 gestures correctly. Please import the following libraries to get started."
   ]
  },
  {
   "cell_type": "code",
   "execution_count": 32,
   "metadata": {},
   "outputs": [],
   "source": [
    "import numpy as np\n",
    "import os\n",
    "from scipy.misc import imread, imresize\n",
    "import datetime\n",
    "import os"
   ]
  },
  {
   "cell_type": "markdown",
   "metadata": {},
   "source": [
    "We set the random seed so that the results don't vary drastically."
   ]
  },
  {
   "cell_type": "code",
   "execution_count": 33,
   "metadata": {},
   "outputs": [],
   "source": [
    "np.random.seed(30)\n",
    "import random as rn\n",
    "rn.seed(30)\n",
    "from keras import backend as K\n",
    "import tensorflow as tf\n",
    "tf.set_random_seed(30)"
   ]
  },
  {
   "cell_type": "markdown",
   "metadata": {},
   "source": [
    "In this block, you read the folder names for training and validation. You also set the `batch_size` here. Note that you set the batch size in such a way that you are able to use the GPU in full capacity. You keep increasing the batch size until the machine throws an error."
   ]
  },
  {
   "cell_type": "code",
   "execution_count": 34,
   "metadata": {},
   "outputs": [],
   "source": [
    "train_doc = np.random.permutation(open('/mnt/disks/user/project/PROJECT/gdown.pl-master/Project_data/train.csv').readlines())\n",
    "val_doc = np.random.permutation(open('/mnt/disks/user/project/PROJECT/gdown.pl-master/Project_data/val.csv').readlines())\n",
    "batch_size = 10"
   ]
  },
  {
   "cell_type": "markdown",
   "metadata": {},
   "source": [
    "## Generator\n",
    "This is one of the most important part of the code. The overall structure of the generator has been given. In the generator, you are going to preprocess the images as you have images of 2 different dimensions as well as create a batch of video frames. You have to experiment with `img_idx`, `y`,`z` and normalization such that you get high accuracy."
   ]
  },
  {
   "cell_type": "code",
   "execution_count": 35,
   "metadata": {},
   "outputs": [],
   "source": [
    "def generator(source_path, folder_list, batch_size):\n",
    "    print( 'Source path = ', source_path, '; batch size =', batch_size)\n",
    "    img_idx = [x for x in range(0, 30)] #create a list of image numbers you want to use for a particular video\n",
    "    while True:\n",
    "        t = np.random.permutation(folder_list)\n",
    "        num_batches = len(folder_list)//batch_size # calculate the number of batches\n",
    "        for batch in range(num_batches): # we iterate over the number of batches\n",
    "            batch_data = np.zeros((batch_size,x,y,z,3)) # x is the number of images you use for each video, (y,z) is the final size of the input images and 3 is the number of channels RGB\n",
    "            batch_labels = np.zeros((batch_size,5)) # batch_labels is the one hot representation of the output\n",
    "            for folder in range(batch_size): # iterate over the batch_size\n",
    "                imgs = os.listdir(source_path+'/'+ t[folder + (batch*batch_size)].split(';')[0]) # read all the images in the folder\n",
    "                for idx,item in enumerate(img_idx): #  Iterate iver the frames/images of a folder to read them in\n",
    "                    image = imread(source_path+'/'+ t[folder + (batch*batch_size)].strip().split(';')[0]+'/'+imgs[item]).astype(np.float32)\n",
    "                    \n",
    "                    #crop the images and resize them. Note that the images are of 2 different shape \n",
    "                    #and the conv3D will throw error if the inputs in a batch have different shapes\n",
    "                    \n",
    "                    batch_data[folder,idx,:,:,0] = imresize(image[:,:,0],[100,100])#normalise and feed in the image\n",
    "                    batch_data[folder,idx,:,:,1] = imresize(image[:,:,1],[100,100])#normalise and feed in the image\n",
    "                    batch_data[folder,idx,:,:,2] = imresize(image[:,:,2],[100,100])#normalise and feed in the image\n",
    "                    \n",
    "                batch_labels[folder, int(t[folder + (batch*batch_size)].strip().split(';')[2])] = 1\n",
    "            yield batch_data, batch_labels #you yield the batch_data and the batch_labels, remember what does yield do\n",
    "\n",
    "        \n",
    "        # write the code for the remaining data points which are left after full batches\n",
    "        if (len(folder_list) != batch_size*num_batches):\n",
    "            batch_size = len(folder_list) - (batch_size*num_batches)\n",
    "            batch_data = np.zeros((batch_size,30,100,100,3)) # x is the number of images you use for each video, (y,z) is the final size of the input images and 3 is the number of channels RGB\n",
    "            batch_labels = np.zeros((batch_size,5)) # batch_labels is the one hot representation of the output\n",
    "            for folder in range(batch_size): # iterate over the batch_size\n",
    "                imgs = os.listdir(source_path+'/'+ t[folder + (batch*batch_size)].split(';')[0]) # read all the images in the folder\n",
    "                for idx,item in enumerate(img_idx): #  Iterate iver the frames/images of a folder to read them in\n",
    "                    image = imread(source_path+'/'+ t[folder + (batch*batch_size)].strip().split(';')[0]+'/'+imgs[item]).astype(np.float32)\n",
    "                    \n",
    "                    #crop the images and resize them. Note that the images are of 2 different shape \n",
    "                    #and the conv3D will throw error if the inputs in a batch have different shapes\n",
    "                    \n",
    "                    batch_data[folder,idx,:,:,0] = imresize(image[:,:,0],[100,100])#normalise and feed in the image\n",
    "                    batch_data[folder,idx,:,:,1] = imresize(image[:,:,1],[100,100])#normalise and feed in the image\n",
    "                    batch_data[folder,idx,:,:,2] = imresize(image[:,:,2],[100,100])#normalise and feed in the image\n",
    "                    \n",
    "                batch_labels[folder, int(t[folder + (batch*batch_size)].strip().split(';')[2])] = 1\n",
    "            yield batch_data, batch_labels           "
   ]
  },
  {
   "cell_type": "markdown",
   "metadata": {},
   "source": [
    "Note here that a video is represented above in the generator as (number of images, height, width, number of channels). Take this into consideration while creating the model architecture."
   ]
  },
  {
   "cell_type": "code",
   "execution_count": 36,
   "metadata": {},
   "outputs": [
    {
     "name": "stdout",
     "output_type": "stream",
     "text": [
      "# training sequences = 663\n",
      "# validation sequences = 100\n",
      "# epochs = 10\n"
     ]
    }
   ],
   "source": [
    "curr_dt_time = datetime.datetime.now()\n",
    "train_path = '/mnt/disks/user/project/PROJECT/gdown.pl-master/Project_data/train'\n",
    "val_path = '/mnt/disks/user/project/PROJECT/gdown.pl-master/Project_data/val'\n",
    "num_train_sequences = len(train_doc)\n",
    "print('# training sequences =', num_train_sequences)\n",
    "num_val_sequences = len(val_doc)\n",
    "print('# validation sequences =', num_val_sequences)\n",
    "num_epochs = 10 # choose the number of epochs\n",
    "print ('# epochs =', num_epochs)"
   ]
  },
  {
   "cell_type": "markdown",
   "metadata": {},
   "source": [
    "## Model\n",
    "Here you make the model using different functionalities that Keras provides. Remember to use `Conv3D` and `MaxPooling3D` and not `Conv2D` and `Maxpooling2D` for a 3D convolution model. You would want to use `TimeDistributed` while building a Conv2D + RNN model. Also remember that the last layer is the softmax. Design the network in such a way that the model is able to give good accuracy on the least number of parameters so that it can fit in the memory of the webcam."
   ]
  },
  {
   "cell_type": "code",
   "execution_count": 37,
   "metadata": {},
   "outputs": [],
   "source": [
    "from keras.models import Sequential, Model\n",
    "from keras.layers import Dense, GRU, Flatten, TimeDistributed, Flatten, BatchNormalization, Activation\n",
    "from keras.layers.convolutional import Conv3D, MaxPooling3D\n",
    "from keras.layers.convolutional import Conv2D, MaxPooling2D\n",
    "from keras.callbacks import ModelCheckpoint, ReduceLROnPlateau\n",
    "from keras import optimizers\n",
    "\n",
    "#write your model here\n",
    "# Input values\n",
    "x = 30\n",
    "y = 100\n",
    "z = 100\n",
    "\n",
    "# Input shape\n",
    "input_shape=(x,y,z,3)\n",
    "\n",
    "#Define model 1\n",
    "#In this model we are using 3 D CNN stack\n",
    "Conv3d_model = Sequential()\n",
    "Conv3d_model.add(Conv3D(8, kernel_size=(3,3,3), input_shape=input_shape, padding='same'))\n",
    "Conv3d_model.add(BatchNormalization())\n",
    "Conv3d_model.add(Activation('relu'))\n",
    "Conv3d_model.add(MaxPooling3D(pool_size=(2,2,2)))\n",
    "\n",
    "Conv3d_model.add(Conv3D(16, kernel_size=(3,3,3), padding='same'))\n",
    "Conv3d_model.add(BatchNormalization())\n",
    "Conv3d_model.add(Activation('relu'))\n",
    "Conv3d_model.add(MaxPooling3D(pool_size=(2,2,2)))\n",
    "\n",
    "Conv3d_model.add(Conv3D(32, kernel_size=(1,3,3), padding='same'))\n",
    "Conv3d_model.add(BatchNormalization())\n",
    "Conv3d_model.add(Activation('relu'))\n",
    "Conv3d_model.add(MaxPooling3D(pool_size=(2,2,2)))\n",
    "\n",
    "Conv3d_model.add(Conv3D(64, kernel_size=(1,3,3), padding='same'))\n",
    "Conv3d_model.add(Activation('relu'))\n",
    "Conv3d_model.add(MaxPooling3D(pool_size=(2,2,2)))\n",
    "\n",
    "#Flatten Layers\n",
    "Conv3d_model.add(Flatten())\n",
    "Conv3d_model.add(Dense(256, activation='relu'))\n",
    "Conv3d_model.add(Dense(128, activation='relu'))\n",
    "\n",
    "#softmax layer\n",
    "Conv3d_model.add(Dense(5, activation='softmax'))\n",
    "\n",
    "\n",
    "#Define model 2\n",
    "#In this model we are using CNN-RNN stack\n",
    "GRU_model = Sequential()\n",
    "GRU_model.add(TimeDistributed(Conv2D(32, (7, 7), strides=(2, 2), activation='relu', padding='same'), input_shape=input_shape))\n",
    "GRU_model.add(TimeDistributed(Conv2D(32, (3,3), kernel_initializer=\"he_normal\", activation='relu')))\n",
    "GRU_model.add(TimeDistributed(MaxPooling2D((2, 2), strides=(2, 2))))\n",
    "\n",
    "        \n",
    "GRU_model.add(TimeDistributed(Conv2D(64, (3,3), padding='same', activation='relu')))\n",
    "GRU_model.add(TimeDistributed(MaxPooling2D((2, 2), strides=(2, 2))))\n",
    "\n",
    "        \n",
    "GRU_model.add(TimeDistributed(Conv2D(128, (3,3), padding='same', activation='relu')))\n",
    "GRU_model.add(TimeDistributed(MaxPooling2D((2, 2), strides=(2, 2))))\n",
    "\n",
    "        \n",
    "GRU_model.add(TimeDistributed(Conv2D(256, (3,3), padding='same', activation='relu')))\n",
    "GRU_model.add(TimeDistributed(MaxPooling2D((2, 2), strides=(2, 2))))\n",
    "        \n",
    "        \n",
    "GRU_model.add(TimeDistributed(Conv2D(512, (3,3), padding='same', activation='relu')))\n",
    "GRU_model.add(TimeDistributed(MaxPooling2D((2, 2), strides=(2, 2))))\n",
    "\n",
    "#Flatten Layers        \n",
    "GRU_model.add(TimeDistributed(Flatten()))\n",
    "\n",
    "#RNN Layer\n",
    "GRU_model.add(GRU(256, return_sequences=False))\n",
    "#softmax layer\n",
    "GRU_model.add(Dense(5, activation='softmax'))\n"
   ]
  },
  {
   "cell_type": "markdown",
   "metadata": {},
   "source": [
    "Now that you have written the model, the next step is to `compile` the model. When you print the `summary` of the model, you'll see the total number of parameters you have to train."
   ]
  },
  {
   "cell_type": "code",
   "execution_count": 38,
   "metadata": {
    "scrolled": true
   },
   "outputs": [
    {
     "name": "stdout",
     "output_type": "stream",
     "text": [
      "_________________________________________________________________\n",
      "Layer (type)                 Output Shape              Param #   \n",
      "=================================================================\n",
      "conv3d_13 (Conv3D)           (None, 30, 100, 100, 8)   656       \n",
      "_________________________________________________________________\n",
      "batch_normalization_10 (Batc (None, 30, 100, 100, 8)   32        \n",
      "_________________________________________________________________\n",
      "activation_13 (Activation)   (None, 30, 100, 100, 8)   0         \n",
      "_________________________________________________________________\n",
      "max_pooling3d_13 (MaxPooling (None, 15, 50, 50, 8)     0         \n",
      "_________________________________________________________________\n",
      "conv3d_14 (Conv3D)           (None, 15, 50, 50, 16)    3472      \n",
      "_________________________________________________________________\n",
      "batch_normalization_11 (Batc (None, 15, 50, 50, 16)    64        \n",
      "_________________________________________________________________\n",
      "activation_14 (Activation)   (None, 15, 50, 50, 16)    0         \n",
      "_________________________________________________________________\n",
      "max_pooling3d_14 (MaxPooling (None, 7, 25, 25, 16)     0         \n",
      "_________________________________________________________________\n",
      "conv3d_15 (Conv3D)           (None, 7, 25, 25, 32)     4640      \n",
      "_________________________________________________________________\n",
      "batch_normalization_12 (Batc (None, 7, 25, 25, 32)     128       \n",
      "_________________________________________________________________\n",
      "activation_15 (Activation)   (None, 7, 25, 25, 32)     0         \n",
      "_________________________________________________________________\n",
      "max_pooling3d_15 (MaxPooling (None, 3, 12, 12, 32)     0         \n",
      "_________________________________________________________________\n",
      "conv3d_16 (Conv3D)           (None, 3, 12, 12, 64)     18496     \n",
      "_________________________________________________________________\n",
      "activation_16 (Activation)   (None, 3, 12, 12, 64)     0         \n",
      "_________________________________________________________________\n",
      "max_pooling3d_16 (MaxPooling (None, 1, 6, 6, 64)       0         \n",
      "_________________________________________________________________\n",
      "flatten_6 (Flatten)          (None, 2304)              0         \n",
      "_________________________________________________________________\n",
      "dense_12 (Dense)             (None, 256)               590080    \n",
      "_________________________________________________________________\n",
      "dense_13 (Dense)             (None, 128)               32896     \n",
      "_________________________________________________________________\n",
      "dense_14 (Dense)             (None, 5)                 645       \n",
      "=================================================================\n",
      "Total params: 651,109\n",
      "Trainable params: 650,997\n",
      "Non-trainable params: 112\n",
      "_________________________________________________________________\n",
      "None\n"
     ]
    }
   ],
   "source": [
    "optimiser = optimizers.Adam()\n",
    "Conv3d_model.compile(optimizer=optimiser, loss='categorical_crossentropy', metrics=['categorical_accuracy'])\n",
    "print (Conv3d_model.summary())"
   ]
  },
  {
   "cell_type": "code",
   "execution_count": 39,
   "metadata": {},
   "outputs": [
    {
     "name": "stdout",
     "output_type": "stream",
     "text": [
      "_________________________________________________________________\n",
      "Layer (type)                 Output Shape              Param #   \n",
      "=================================================================\n",
      "time_distributed_25 (TimeDis (None, 30, 50, 50, 32)    4736      \n",
      "_________________________________________________________________\n",
      "time_distributed_26 (TimeDis (None, 30, 48, 48, 32)    9248      \n",
      "_________________________________________________________________\n",
      "time_distributed_27 (TimeDis (None, 30, 24, 24, 32)    0         \n",
      "_________________________________________________________________\n",
      "time_distributed_28 (TimeDis (None, 30, 24, 24, 64)    18496     \n",
      "_________________________________________________________________\n",
      "time_distributed_29 (TimeDis (None, 30, 12, 12, 64)    0         \n",
      "_________________________________________________________________\n",
      "time_distributed_30 (TimeDis (None, 30, 12, 12, 128)   73856     \n",
      "_________________________________________________________________\n",
      "time_distributed_31 (TimeDis (None, 30, 6, 6, 128)     0         \n",
      "_________________________________________________________________\n",
      "time_distributed_32 (TimeDis (None, 30, 6, 6, 256)     295168    \n",
      "_________________________________________________________________\n",
      "time_distributed_33 (TimeDis (None, 30, 3, 3, 256)     0         \n",
      "_________________________________________________________________\n",
      "time_distributed_34 (TimeDis (None, 30, 3, 3, 512)     1180160   \n",
      "_________________________________________________________________\n",
      "time_distributed_35 (TimeDis (None, 30, 1, 1, 512)     0         \n",
      "_________________________________________________________________\n",
      "time_distributed_36 (TimeDis (None, 30, 512)           0         \n",
      "_________________________________________________________________\n",
      "gru_3 (GRU)                  (None, 256)               590592    \n",
      "_________________________________________________________________\n",
      "dense_15 (Dense)             (None, 5)                 1285      \n",
      "=================================================================\n",
      "Total params: 2,173,541\n",
      "Trainable params: 2,173,541\n",
      "Non-trainable params: 0\n",
      "_________________________________________________________________\n",
      "None\n"
     ]
    }
   ],
   "source": [
    "optimiser = optimizers.Adam()\n",
    "GRU_model.compile(optimizer=optimiser, loss='categorical_crossentropy', metrics=['categorical_accuracy'])\n",
    "print (GRU_model.summary())"
   ]
  },
  {
   "cell_type": "markdown",
   "metadata": {},
   "source": [
    "Let us create the `train_generator` and the `val_generator` which will be used in `.fit_generator`."
   ]
  },
  {
   "cell_type": "code",
   "execution_count": 40,
   "metadata": {},
   "outputs": [],
   "source": [
    "train_generator = generator(train_path, train_doc, batch_size)\n",
    "val_generator = generator(val_path, val_doc, batch_size)"
   ]
  },
  {
   "cell_type": "code",
   "execution_count": 41,
   "metadata": {},
   "outputs": [],
   "source": [
    "model_name = 'model_init' + '_' + str(curr_dt_time).replace(' ','').replace(':','_') + '/'\n",
    "    \n",
    "if not os.path.exists(model_name):\n",
    "    os.mkdir(model_name)\n",
    "        \n",
    "filepath = model_name + 'model-{epoch:05d}-{loss:.5f}-{categorical_accuracy:.5f}-{val_loss:.5f}-{val_categorical_accuracy:.5f}.h5'\n",
    "\n",
    "checkpoint = ModelCheckpoint(filepath, monitor='val_loss', verbose=1, save_best_only=False, save_weights_only=False, mode='auto', period=1)\n",
    "\n",
    "LR =  ReduceLROnPlateau(monitor='val_loss', factor=0.5, patience=2, cooldown=1, verbose=1)# write the REducelronplateau code here\n",
    "callbacks_list = [checkpoint, LR]"
   ]
  },
  {
   "cell_type": "markdown",
   "metadata": {},
   "source": [
    "The `steps_per_epoch` and `validation_steps` are used by `fit_generator` to decide the number of next() calls it need to make."
   ]
  },
  {
   "cell_type": "code",
   "execution_count": 42,
   "metadata": {},
   "outputs": [],
   "source": [
    "if (num_train_sequences%batch_size) == 0:\n",
    "    steps_per_epoch = int(num_train_sequences/batch_size)\n",
    "else:\n",
    "    steps_per_epoch = (num_train_sequences//batch_size) + 1\n",
    "\n",
    "if (num_val_sequences%batch_size) == 0:\n",
    "    validation_steps = int(num_val_sequences/batch_size)\n",
    "else:\n",
    "    validation_steps = (num_val_sequences//batch_size) + 1"
   ]
  },
  {
   "cell_type": "markdown",
   "metadata": {},
   "source": [
    "Let us now fit the model. This will start training the model and with the help of the checkpoints, you'll be able to save the model at the end of each epoch."
   ]
  },
  {
   "cell_type": "code",
   "execution_count": 14,
   "metadata": {},
   "outputs": [
    {
     "name": "stdout",
     "output_type": "stream",
     "text": [
      "Source path =  /mnt/disks/user/project/PROJECT/gdown.pl-master/Project_data/val ; batch size = Source path =  /mnt/disks/user/project/PROJECT/gdown.pl-master/Project_data/train ; batch size = 10\n",
      "Epoch 1/10\n",
      "10\n"
     ]
    },
    {
     "name": "stderr",
     "output_type": "stream",
     "text": [
      "/mnt/disks/user/anaconda3/lib/python3.6/site-packages/ipykernel_launcher.py:13: DeprecationWarning: `imread` is deprecated!\n",
      "`imread` is deprecated in SciPy 1.0.0, and will be removed in 1.2.0.\n",
      "Use ``imageio.imread`` instead.\n",
      "  del sys.path[0]\n",
      "/mnt/disks/user/anaconda3/lib/python3.6/site-packages/ipykernel_launcher.py:18: DeprecationWarning: `imresize` is deprecated!\n",
      "`imresize` is deprecated in SciPy 1.0.0, and will be removed in 1.2.0.\n",
      "Use ``skimage.transform.resize`` instead.\n",
      "/mnt/disks/user/anaconda3/lib/python3.6/site-packages/ipykernel_launcher.py:19: DeprecationWarning: `imresize` is deprecated!\n",
      "`imresize` is deprecated in SciPy 1.0.0, and will be removed in 1.2.0.\n",
      "Use ``skimage.transform.resize`` instead.\n",
      "/mnt/disks/user/anaconda3/lib/python3.6/site-packages/ipykernel_launcher.py:20: DeprecationWarning: `imresize` is deprecated!\n",
      "`imresize` is deprecated in SciPy 1.0.0, and will be removed in 1.2.0.\n",
      "Use ``skimage.transform.resize`` instead.\n"
     ]
    },
    {
     "name": "stdout",
     "output_type": "stream",
     "text": [
      "65/67 [============================>.] - ETA: 6s - loss: 1.4098 - categorical_accuracy: 0.3923"
     ]
    },
    {
     "name": "stderr",
     "output_type": "stream",
     "text": [
      "/mnt/disks/user/anaconda3/lib/python3.6/site-packages/ipykernel_launcher.py:34: DeprecationWarning: `imread` is deprecated!\n",
      "`imread` is deprecated in SciPy 1.0.0, and will be removed in 1.2.0.\n",
      "Use ``imageio.imread`` instead.\n",
      "/mnt/disks/user/anaconda3/lib/python3.6/site-packages/ipykernel_launcher.py:39: DeprecationWarning: `imresize` is deprecated!\n",
      "`imresize` is deprecated in SciPy 1.0.0, and will be removed in 1.2.0.\n",
      "Use ``skimage.transform.resize`` instead.\n",
      "/mnt/disks/user/anaconda3/lib/python3.6/site-packages/ipykernel_launcher.py:40: DeprecationWarning: `imresize` is deprecated!\n",
      "`imresize` is deprecated in SciPy 1.0.0, and will be removed in 1.2.0.\n",
      "Use ``skimage.transform.resize`` instead.\n",
      "/mnt/disks/user/anaconda3/lib/python3.6/site-packages/ipykernel_launcher.py:41: DeprecationWarning: `imresize` is deprecated!\n",
      "`imresize` is deprecated in SciPy 1.0.0, and will be removed in 1.2.0.\n",
      "Use ``skimage.transform.resize`` instead.\n"
     ]
    },
    {
     "name": "stdout",
     "output_type": "stream",
     "text": [
      "67/67 [==============================] - 210s 3s/step - loss: 1.4039 - categorical_accuracy: 0.3995 - val_loss: 1.5432 - val_categorical_accuracy: 0.3800\n",
      "\n",
      "Epoch 00001: saving model to model_init_2019-03-1712_28_10.484679/model-00001-1.40459-0.39668-1.54323-0.38000.h5\n",
      "Epoch 2/10\n",
      "67/67 [==============================] - 30s 442ms/step - loss: 1.1996 - categorical_accuracy: 0.4627 - val_loss: 1.9064 - val_categorical_accuracy: 0.4000\n",
      "\n",
      "Epoch 00002: saving model to model_init_2019-03-1712_28_10.484679/model-00002-1.19961-0.46269-1.90638-0.40000.h5\n",
      "Epoch 3/10\n",
      "67/67 [==============================] - 31s 462ms/step - loss: 1.2219 - categorical_accuracy: 0.4428 - val_loss: 3.8356 - val_categorical_accuracy: 0.3000\n",
      "\n",
      "Epoch 00003: saving model to model_init_2019-03-1712_28_10.484679/model-00003-1.22194-0.44279-3.83560-0.30000.h5\n",
      "\n",
      "Epoch 00003: ReduceLROnPlateau reducing learning rate to 0.0005000000237487257.\n",
      "Epoch 4/10\n",
      "67/67 [==============================] - 31s 463ms/step - loss: 0.9197 - categorical_accuracy: 0.6667 - val_loss: 0.8931 - val_categorical_accuracy: 0.6300\n",
      "\n",
      "Epoch 00004: saving model to model_init_2019-03-1712_28_10.484679/model-00004-0.91969-0.66667-0.89308-0.63000.h5\n",
      "Epoch 5/10\n",
      "67/67 [==============================] - 31s 462ms/step - loss: 0.8401 - categorical_accuracy: 0.6517 - val_loss: 0.9562 - val_categorical_accuracy: 0.6600\n",
      "\n",
      "Epoch 00005: saving model to model_init_2019-03-1712_28_10.484679/model-00005-0.84011-0.65174-0.95617-0.66000.h5\n",
      "Epoch 6/10\n",
      "67/67 [==============================] - 30s 448ms/step - loss: 0.3565 - categorical_accuracy: 0.8706 - val_loss: 0.7086 - val_categorical_accuracy: 0.7500\n",
      "\n",
      "Epoch 00009: saving model to model_init_2019-03-1712_28_10.484679/model-00009-0.35647-0.87065-0.70861-0.75000.h5\n",
      "Epoch 10/10\n",
      "67/67 [==============================] - 31s 463ms/step - loss: 0.4940 - categorical_accuracy: 0.8159 - val_loss: 0.7098 - val_categorical_accuracy: 0.7400\n",
      "\n",
      "Epoch 00010: saving model to model_init_2019-03-1712_28_10.484679/model-00010-0.49399-0.81592-0.70984-0.74000.h5\n"
     ]
    },
    {
     "data": {
      "text/plain": [
       "<keras.callbacks.History at 0x7fab46f81f28>"
      ]
     },
     "execution_count": 14,
     "metadata": {},
     "output_type": "execute_result"
    }
   ],
   "source": [
    "Conv3d_model.fit_generator(train_generator, steps_per_epoch=steps_per_epoch, epochs=num_epochs, verbose=1, \n",
    "                    callbacks=callbacks_list, validation_data=val_generator, \n",
    "                    validation_steps=validation_steps, class_weight=None, workers=1, initial_epoch=0)"
   ]
  },
  {
   "cell_type": "code",
   "execution_count": 15,
   "metadata": {},
   "outputs": [
    {
     "name": "stdout",
     "output_type": "stream",
     "text": [
      "Epoch 1/10\n"
     ]
    },
    {
     "name": "stderr",
     "output_type": "stream",
     "text": [
      "/mnt/disks/user/anaconda3/lib/python3.6/site-packages/ipykernel_launcher.py:13: DeprecationWarning: `imread` is deprecated!\n",
      "`imread` is deprecated in SciPy 1.0.0, and will be removed in 1.2.0.\n",
      "Use ``imageio.imread`` instead.\n",
      "  del sys.path[0]\n",
      "/mnt/disks/user/anaconda3/lib/python3.6/site-packages/ipykernel_launcher.py:18: DeprecationWarning: `imresize` is deprecated!\n",
      "`imresize` is deprecated in SciPy 1.0.0, and will be removed in 1.2.0.\n",
      "Use ``skimage.transform.resize`` instead.\n",
      "/mnt/disks/user/anaconda3/lib/python3.6/site-packages/ipykernel_launcher.py:19: DeprecationWarning: `imresize` is deprecated!\n",
      "`imresize` is deprecated in SciPy 1.0.0, and will be removed in 1.2.0.\n",
      "Use ``skimage.transform.resize`` instead.\n",
      "/mnt/disks/user/anaconda3/lib/python3.6/site-packages/ipykernel_launcher.py:20: DeprecationWarning: `imresize` is deprecated!\n",
      "`imresize` is deprecated in SciPy 1.0.0, and will be removed in 1.2.0.\n",
      "Use ``skimage.transform.resize`` instead.\n"
     ]
    },
    {
     "name": "stdout",
     "output_type": "stream",
     "text": [
      "67/67 [==============================] - 35s 516ms/step - loss: 1.7114 - categorical_accuracy: 0.2189 - val_loss: 1.6878 - val_categorical_accuracy: 0.1800\n",
      "\n",
      "Epoch 00001: saving model to model_init_2019-03-1712_28_10.484679/model-00001-1.71144-0.21891-1.68778-0.18000.h5\n",
      "Epoch 2/10\n",
      "67/67 [==============================] - 32s 479ms/step - loss: 1.6676 - categorical_accuracy: 0.1741 - val_loss: 1.6326 - val_categorical_accuracy: 0.1800\n",
      "\n",
      "Epoch 00002: saving model to model_init_2019-03-1712_28_10.484679/model-00002-1.66758-0.17413-1.63259-0.18000.h5\n",
      "Epoch 3/10\n",
      "67/67 [==============================] - 33s 487ms/step - loss: 1.6673 - categorical_accuracy: 0.1891 - val_loss: 1.6418 - val_categorical_accuracy: 0.2000\n",
      "\n",
      "Epoch 00003: saving model to model_init_2019-03-1712_28_10.484679/model-00003-1.66729-0.18905-1.64178-0.20000.h5\n",
      "Epoch 4/10\n",
      "67/67 [==============================] - 31s 462ms/step - loss: 1.6913 - categorical_accuracy: 0.1741 - val_loss: 1.6101 - val_categorical_accuracy: 0.2300\n",
      "\n",
      "Epoch 00004: saving model to model_init_2019-03-1712_28_10.484679/model-00004-1.69135-0.17413-1.61006-0.23000.h5\n",
      "Epoch 5/10\n",
      "67/67 [==============================] - 31s 463ms/step - loss: 1.6474 - categorical_accuracy: 0.1841 - val_loss: 1.6231 - val_categorical_accuracy: 0.1800\n",
      "\n",
      "Epoch 00005: saving model to model_init_2019-03-1712_28_10.484679/model-00005-1.64736-0.18408-1.62314-0.18000.h5\n",
      "Epoch 6/10\n",
      "67/67 [==============================] - 33s 492ms/step - loss: 1.6529 - categorical_accuracy: 0.2139 - val_loss: 1.6477 - val_categorical_accuracy: 0.2100\n",
      "\n",
      "Epoch 00006: saving model to model_init_2019-03-1712_28_10.484679/model-00006-1.65285-0.21393-1.64765-0.21000.h5\n",
      "\n",
      "Epoch 00006: ReduceLROnPlateau reducing learning rate to 0.0005000000237487257.\n",
      "Epoch 7/10\n",
      "67/67 [==============================] - 30s 451ms/step - loss: 1.6795 - categorical_accuracy: 0.1841 - val_loss: 1.6694 - val_categorical_accuracy: 0.1700\n",
      "\n",
      "Epoch 00007: saving model to model_init_2019-03-1712_28_10.484679/model-00007-1.67952-0.18408-1.66939-0.17000.h5\n",
      "Epoch 8/10\n",
      "67/67 [==============================] - 33s 486ms/step - loss: 1.6342 - categorical_accuracy: 0.1642 - val_loss: 1.6301 - val_categorical_accuracy: 0.1900\n",
      "\n",
      "Epoch 00008: saving model to model_init_2019-03-1712_28_10.484679/model-00008-1.63423-0.16418-1.63012-0.19000.h5\n",
      "\n",
      "Epoch 00008: ReduceLROnPlateau reducing learning rate to 0.0002500000118743628.\n",
      "Epoch 9/10\n",
      "67/67 [==============================] - 32s 475ms/step - loss: 1.6155 - categorical_accuracy: 0.2040 - val_loss: 1.6122 - val_categorical_accuracy: 0.2000\n",
      "\n",
      "Epoch 00009: saving model to model_init_2019-03-1712_28_10.484679/model-00009-1.61552-0.20398-1.61218-0.20000.h5\n",
      "Epoch 10/10\n",
      "67/67 [==============================] - 30s 452ms/step - loss: 1.6151 - categorical_accuracy: 0.1990 - val_loss: 1.6434 - val_categorical_accuracy: 0.1600\n",
      "\n",
      "Epoch 00010: saving model to model_init_2019-03-1712_28_10.484679/model-00010-1.61509-0.19900-1.64337-0.16000.h5\n",
      "\n",
      "Epoch 00010: ReduceLROnPlateau reducing learning rate to 0.0001250000059371814.\n"
     ]
    },
    {
     "data": {
      "text/plain": [
       "<keras.callbacks.History at 0x7fab2f6d4978>"
      ]
     },
     "execution_count": 15,
     "metadata": {},
     "output_type": "execute_result"
    }
   ],
   "source": [
    "GRU_model.fit_generator(train_generator, steps_per_epoch=steps_per_epoch, epochs=num_epochs, verbose=1, \n",
    "                    callbacks=callbacks_list, validation_data=val_generator, \n",
    "                    validation_steps=validation_steps, class_weight=None, workers=1, initial_epoch=0)"
   ]
  },
  {
   "cell_type": "code",
   "execution_count": 16,
   "metadata": {},
   "outputs": [
    {
     "name": "stdout",
     "output_type": "stream",
     "text": [
      "Epoch 1/20\n"
     ]
    },
    {
     "name": "stderr",
     "output_type": "stream",
     "text": [
      "/mnt/disks/user/anaconda3/lib/python3.6/site-packages/ipykernel_launcher.py:13: DeprecationWarning: `imread` is deprecated!\n",
      "`imread` is deprecated in SciPy 1.0.0, and will be removed in 1.2.0.\n",
      "Use ``imageio.imread`` instead.\n",
      "  del sys.path[0]\n",
      "/mnt/disks/user/anaconda3/lib/python3.6/site-packages/ipykernel_launcher.py:18: DeprecationWarning: `imresize` is deprecated!\n",
      "`imresize` is deprecated in SciPy 1.0.0, and will be removed in 1.2.0.\n",
      "Use ``skimage.transform.resize`` instead.\n",
      "/mnt/disks/user/anaconda3/lib/python3.6/site-packages/ipykernel_launcher.py:19: DeprecationWarning: `imresize` is deprecated!\n",
      "`imresize` is deprecated in SciPy 1.0.0, and will be removed in 1.2.0.\n",
      "Use ``skimage.transform.resize`` instead.\n",
      "/mnt/disks/user/anaconda3/lib/python3.6/site-packages/ipykernel_launcher.py:20: DeprecationWarning: `imresize` is deprecated!\n",
      "`imresize` is deprecated in SciPy 1.0.0, and will be removed in 1.2.0.\n",
      "Use ``skimage.transform.resize`` instead.\n"
     ]
    },
    {
     "name": "stdout",
     "output_type": "stream",
     "text": [
      "67/67 [==============================] - 31s 467ms/step - loss: 0.4108 - categorical_accuracy: 0.8159 - val_loss: 0.8024 - val_categorical_accuracy: 0.6900\n",
      "\n",
      "Epoch 00001: saving model to model_init_2019-03-1712_28_10.484679/model-00001-0.41078-0.81592-0.80243-0.69000.h5\n",
      "Epoch 2/20\n",
      "67/67 [==============================] - 30s 454ms/step - loss: 0.4542 - categorical_accuracy: 0.8358 - val_loss: 0.7525 - val_categorical_accuracy: 0.7600\n",
      "\n",
      "Epoch 00002: saving model to model_init_2019-03-1712_28_10.484679/model-00002-0.45418-0.83582-0.75246-0.76000.h5\n",
      "Epoch 3/20\n",
      "67/67 [==============================] - 31s 459ms/step - loss: 0.3866 - categorical_accuracy: 0.8607 - val_loss: 1.0043 - val_categorical_accuracy: 0.7100\n",
      "\n",
      "Epoch 00003: saving model to model_init_2019-03-1712_28_10.484679/model-00003-0.38661-0.86070-1.00431-0.71000.h5\n",
      "Epoch 4/20\n",
      "67/67 [==============================] - 29s 439ms/step - loss: 0.3366 - categorical_accuracy: 0.8657 - val_loss: 0.6965 - val_categorical_accuracy: 0.7500\n",
      "\n",
      "Epoch 00004: saving model to model_init_2019-03-1712_28_10.484679/model-00004-0.33662-0.86567-0.69654-0.75000.h5\n",
      "Epoch 5/20\n",
      "67/67 [==============================] - 31s 460ms/step - loss: 0.2791 - categorical_accuracy: 0.9005 - val_loss: 0.8304 - val_categorical_accuracy: 0.7000\n",
      "\n",
      "Epoch 00005: saving model to model_init_2019-03-1712_28_10.484679/model-00005-0.27912-0.90050-0.83040-0.70000.h5\n",
      "Epoch 6/20\n",
      "67/67 [==============================] - 29s 437ms/step - loss: 0.3009 - categorical_accuracy: 0.9154 - val_loss: 0.6061 - val_categorical_accuracy: 0.7500\n",
      "\n",
      "Epoch 00006: saving model to model_init_2019-03-1712_28_10.484679/model-00006-0.30094-0.91542-0.60609-0.75000.h5\n",
      "Epoch 7/20\n",
      "67/67 [==============================] - 30s 449ms/step - loss: 0.2009 - categorical_accuracy: 0.9303 - val_loss: 0.8266 - val_categorical_accuracy: 0.7200\n",
      "\n",
      "Epoch 00007: saving model to model_init_2019-03-1712_28_10.484679/model-00007-0.20087-0.93035-0.82663-0.72000.h5\n",
      "Epoch 8/20\n",
      "67/67 [==============================] - 29s 435ms/step - loss: 0.2710 - categorical_accuracy: 0.8856 - val_loss: 0.8273 - val_categorical_accuracy: 0.6900\n",
      "\n",
      "Epoch 00008: saving model to model_init_2019-03-1712_28_10.484679/model-00008-0.27098-0.88557-0.82726-0.69000.h5\n",
      "\n",
      "Epoch 00008: ReduceLROnPlateau reducing learning rate to 0.0001250000059371814.\n",
      "Epoch 9/20\n",
      "67/67 [==============================] - 31s 465ms/step - loss: 0.1833 - categorical_accuracy: 0.9403 - val_loss: 0.8033 - val_categorical_accuracy: 0.7300\n",
      "\n",
      "Epoch 00009: saving model to model_init_2019-03-1712_28_10.484679/model-00009-0.18328-0.94030-0.80328-0.73000.h5\n",
      "Epoch 10/20\n",
      "67/67 [==============================] - 29s 427ms/step - loss: 0.1432 - categorical_accuracy: 0.9552 - val_loss: 0.5888 - val_categorical_accuracy: 0.7600\n",
      "\n",
      "Epoch 00010: saving model to model_init_2019-03-1712_28_10.484679/model-00010-0.14324-0.95522-0.58876-0.76000.h5\n",
      "Epoch 11/20\n",
      "67/67 [==============================] - 29s 440ms/step - loss: 0.1276 - categorical_accuracy: 0.9652 - val_loss: 0.8478 - val_categorical_accuracy: 0.7400\n",
      "\n",
      "Epoch 00011: saving model to model_init_2019-03-1712_28_10.484679/model-00011-0.12759-0.96517-0.84776-0.74000.h5\n",
      "Epoch 12/20\n",
      "67/67 [==============================] - 29s 433ms/step - loss: 0.0840 - categorical_accuracy: 0.9751 - val_loss: 0.7279 - val_categorical_accuracy: 0.7100\n",
      "\n",
      "Epoch 00012: saving model to model_init_2019-03-1712_28_10.484679/model-00012-0.08400-0.97512-0.72794-0.71000.h5\n",
      "\n",
      "Epoch 00012: ReduceLROnPlateau reducing learning rate to 6.25000029685907e-05.\n",
      "Epoch 13/20\n",
      "67/67 [==============================] - 31s 457ms/step - loss: 0.1180 - categorical_accuracy: 0.9652 - val_loss: 0.7722 - val_categorical_accuracy: 0.7500\n",
      "\n",
      "Epoch 00013: saving model to model_init_2019-03-1712_28_10.484679/model-00013-0.11796-0.96517-0.77219-0.75000.h5\n",
      "Epoch 14/20\n",
      "67/67 [==============================] - 29s 440ms/step - loss: 0.0823 - categorical_accuracy: 0.9900 - val_loss: 0.6886 - val_categorical_accuracy: 0.7500\n",
      "\n",
      "Epoch 00014: saving model to model_init_2019-03-1712_28_10.484679/model-00014-0.08231-0.99005-0.68859-0.75000.h5\n",
      "\n",
      "Epoch 00014: ReduceLROnPlateau reducing learning rate to 3.125000148429535e-05.\n",
      "Epoch 15/20\n",
      "67/67 [==============================] - 30s 443ms/step - loss: 0.0738 - categorical_accuracy: 0.9801 - val_loss: 0.7420 - val_categorical_accuracy: 0.7200\n",
      "\n",
      "Epoch 00015: saving model to model_init_2019-03-1712_28_10.484679/model-00015-0.07383-0.98010-0.74195-0.72000.h5\n",
      "Epoch 16/20\n",
      "67/67 [==============================] - 30s 451ms/step - loss: 0.0646 - categorical_accuracy: 1.0000 - val_loss: 0.7708 - val_categorical_accuracy: 0.7500\n",
      "\n",
      "Epoch 00016: saving model to model_init_2019-03-1712_28_10.484679/model-00016-0.06463-1.00000-0.77083-0.75000.h5\n",
      "\n",
      "Epoch 00016: ReduceLROnPlateau reducing learning rate to 1.5625000742147677e-05.\n",
      "Epoch 17/20\n",
      "67/67 [==============================] - 29s 439ms/step - loss: 0.0602 - categorical_accuracy: 0.9900 - val_loss: 0.7568 - val_categorical_accuracy: 0.7300\n",
      "\n",
      "Epoch 00017: saving model to model_init_2019-03-1712_28_10.484679/model-00017-0.06022-0.99005-0.75684-0.73000.h5\n",
      "Epoch 18/20\n",
      "67/67 [==============================] - 29s 428ms/step - loss: 0.0435 - categorical_accuracy: 1.0000 - val_loss: 0.7178 - val_categorical_accuracy: 0.7600\n",
      "\n",
      "Epoch 00018: saving model to model_init_2019-03-1712_28_10.484679/model-00018-0.04347-1.00000-0.71784-0.76000.h5\n",
      "\n",
      "Epoch 00018: ReduceLROnPlateau reducing learning rate to 7.812500371073838e-06.\n",
      "Epoch 19/20\n",
      "67/67 [==============================] - 31s 458ms/step - loss: 0.0511 - categorical_accuracy: 0.9950 - val_loss: 0.7854 - val_categorical_accuracy: 0.7300\n",
      "\n",
      "Epoch 00019: saving model to model_init_2019-03-1712_28_10.484679/model-00019-0.05114-0.99502-0.78541-0.73000.h5\n",
      "Epoch 20/20\n",
      "67/67 [==============================] - 29s 434ms/step - loss: 0.0685 - categorical_accuracy: 0.9851 - val_loss: 0.7038 - val_categorical_accuracy: 0.7800\n",
      "\n",
      "Epoch 00020: saving model to model_init_2019-03-1712_28_10.484679/model-00020-0.06847-0.98507-0.70376-0.78000.h5\n",
      "\n",
      "Epoch 00020: ReduceLROnPlateau reducing learning rate to 3.906250185536919e-06.\n"
     ]
    },
    {
     "data": {
      "text/plain": [
       "<keras.callbacks.History at 0x7fab20367eb8>"
      ]
     },
     "execution_count": 16,
     "metadata": {},
     "output_type": "execute_result"
    }
   ],
   "source": [
    "batch_size = 10\n",
    "num_epochs = 20\n",
    "\n",
    "Conv3d_model.fit_generator(train_generator, steps_per_epoch=steps_per_epoch, epochs=num_epochs, verbose=1, \n",
    "                    callbacks=callbacks_list, validation_data=val_generator, \n",
    "                    validation_steps=validation_steps, class_weight=None, workers=1, initial_epoch=0)"
   ]
  },
  {
   "cell_type": "code",
   "execution_count": null,
   "metadata": {},
   "outputs": [],
   "source": [
    "batch_size = 50\n",
    "num_epochs = 20\n",
    "\n",
    "Conv3d_model.fit_generator(train_generator, steps_per_epoch=steps_per_epoch, epochs=num_epochs, verbose=1, \n",
    "                    callbacks=callbacks_list, validation_data=val_generator, \n",
    "                    validation_steps=validation_steps, class_weight=None, workers=1, initial_epoch=0)"
   ]
  },
  {
   "cell_type": "code",
   "execution_count": null,
   "metadata": {},
   "outputs": [
    {
     "name": "stdout",
     "output_type": "stream",
     "text": [
      "Source path =  /mnt/disks/user/project/PROJECT/gdown.pl-master/Project_data/val ; batch size = 10\n",
      "Source path =  /mnt/disks/user/project/PROJECT/gdown.pl-master/Project_data/train ; batch size = 10\n",
      "Epoch 1/20\n"
     ]
    },
    {
     "name": "stderr",
     "output_type": "stream",
     "text": [
      "/mnt/disks/user/anaconda3/lib/python3.6/site-packages/ipykernel_launcher.py:13: DeprecationWarning: `imread` is deprecated!\n",
      "`imread` is deprecated in SciPy 1.0.0, and will be removed in 1.2.0.\n",
      "Use ``imageio.imread`` instead.\n",
      "  del sys.path[0]\n",
      "/mnt/disks/user/anaconda3/lib/python3.6/site-packages/ipykernel_launcher.py:18: DeprecationWarning: `imresize` is deprecated!\n",
      "`imresize` is deprecated in SciPy 1.0.0, and will be removed in 1.2.0.\n",
      "Use ``skimage.transform.resize`` instead.\n",
      "/mnt/disks/user/anaconda3/lib/python3.6/site-packages/ipykernel_launcher.py:19: DeprecationWarning: `imresize` is deprecated!\n",
      "`imresize` is deprecated in SciPy 1.0.0, and will be removed in 1.2.0.\n",
      "Use ``skimage.transform.resize`` instead.\n",
      "/mnt/disks/user/anaconda3/lib/python3.6/site-packages/ipykernel_launcher.py:20: DeprecationWarning: `imresize` is deprecated!\n",
      "`imresize` is deprecated in SciPy 1.0.0, and will be removed in 1.2.0.\n",
      "Use ``skimage.transform.resize`` instead.\n"
     ]
    },
    {
     "name": "stdout",
     "output_type": "stream",
     "text": [
      "65/67 [============================>.] - ETA: 2s - loss: 1.4511 - categorical_accuracy: 0.3723"
     ]
    },
    {
     "name": "stderr",
     "output_type": "stream",
     "text": [
      "/mnt/disks/user/anaconda3/lib/python3.6/site-packages/ipykernel_launcher.py:34: DeprecationWarning: `imread` is deprecated!\n",
      "`imread` is deprecated in SciPy 1.0.0, and will be removed in 1.2.0.\n",
      "Use ``imageio.imread`` instead.\n",
      "/mnt/disks/user/anaconda3/lib/python3.6/site-packages/ipykernel_launcher.py:39: DeprecationWarning: `imresize` is deprecated!\n",
      "`imresize` is deprecated in SciPy 1.0.0, and will be removed in 1.2.0.\n",
      "Use ``skimage.transform.resize`` instead.\n",
      "/mnt/disks/user/anaconda3/lib/python3.6/site-packages/ipykernel_launcher.py:40: DeprecationWarning: `imresize` is deprecated!\n",
      "`imresize` is deprecated in SciPy 1.0.0, and will be removed in 1.2.0.\n",
      "Use ``skimage.transform.resize`` instead.\n",
      "/mnt/disks/user/anaconda3/lib/python3.6/site-packages/ipykernel_launcher.py:41: DeprecationWarning: `imresize` is deprecated!\n",
      "`imresize` is deprecated in SciPy 1.0.0, and will be removed in 1.2.0.\n",
      "Use ``skimage.transform.resize`` instead.\n"
     ]
    },
    {
     "name": "stdout",
     "output_type": "stream",
     "text": [
      "67/67 [==============================] - 92s 1s/step - loss: 1.4585 - categorical_accuracy: 0.3672 - val_loss: 1.3379 - val_categorical_accuracy: 0.4700\n",
      "\n",
      "Epoch 00001: saving model to model_init_2019-03-1714_02_23.462429/model-00001-1.45538-0.37104-1.33790-0.47000.h5\n",
      "Epoch 2/20\n",
      "67/67 [==============================] - 29s 439ms/step - loss: 1.1334 - categorical_accuracy: 0.5224 - val_loss: 3.6514 - val_categorical_accuracy: 0.2500\n",
      "\n",
      "Epoch 00002: saving model to model_init_2019-03-1714_02_23.462429/model-00002-1.13342-0.52239-3.65139-0.25000.h5\n",
      "Epoch 3/20\n",
      "67/67 [==============================] - 31s 462ms/step - loss: 1.0939 - categorical_accuracy: 0.5572 - val_loss: 1.0210 - val_categorical_accuracy: 0.5800\n",
      "\n",
      "Epoch 00003: saving model to model_init_2019-03-1714_02_23.462429/model-00003-1.09389-0.55721-1.02102-0.58000.h5\n",
      "Epoch 4/20\n",
      "67/67 [==============================] - 31s 464ms/step - loss: 0.9991 - categorical_accuracy: 0.6418 - val_loss: 1.0994 - val_categorical_accuracy: 0.5300\n",
      "\n",
      "Epoch 00004: saving model to model_init_2019-03-1714_02_23.462429/model-00004-0.99906-0.64179-1.09944-0.53000.h5\n",
      "Epoch 5/20\n",
      "67/67 [==============================] - 32s 471ms/step - loss: 0.9221 - categorical_accuracy: 0.6119 - val_loss: 0.8793 - val_categorical_accuracy: 0.6600\n",
      "\n",
      "Epoch 00005: saving model to model_init_2019-03-1714_02_23.462429/model-00005-0.92207-0.61194-0.87926-0.66000.h5\n",
      "Epoch 6/20\n",
      "67/67 [==============================] - 33s 486ms/step - loss: 0.8046 - categorical_accuracy: 0.6617 - val_loss: 1.0693 - val_categorical_accuracy: 0.5800\n",
      "\n",
      "Epoch 00006: saving model to model_init_2019-03-1714_02_23.462429/model-00006-0.80458-0.66169-1.06930-0.58000.h5\n",
      "Epoch 7/20\n",
      "36/67 [===============>..............] - ETA: 13s - loss: 1.0173 - categorical_accuracy: 0.6204"
     ]
    }
   ],
   "source": [
    "batch_size = 90\n",
    "num_epochs = 20\n",
    "\n",
    "Conv3d_model.fit_generator(train_generator, steps_per_epoch=steps_per_epoch, epochs=num_epochs, verbose=1, \n",
    "                    callbacks=callbacks_list, validation_data=val_generator, \n",
    "                    validation_steps=validation_steps, class_weight=None, workers=1, initial_epoch=0)"
   ]
  },
  {
   "cell_type": "markdown",
   "metadata": {},
   "source": [
    "### So final model is Convolution 3 D model which gives categorical_accuracy: 0.9950 & val_categorical_accuracy: 0.7900 with batch_size:90 and epoch:20"
   ]
  },
  {
   "cell_type": "code",
   "execution_count": null,
   "metadata": {},
   "outputs": [],
   "source": []
  }
 ],
 "metadata": {
  "kernelspec": {
   "display_name": "Python 3",
   "language": "python",
   "name": "python3"
  },
  "language_info": {
   "codemirror_mode": {
    "name": "ipython",
    "version": 3
   },
   "file_extension": ".py",
   "mimetype": "text/x-python",
   "name": "python",
   "nbconvert_exporter": "python",
   "pygments_lexer": "ipython3",
   "version": "3.6.8"
  }
 },
 "nbformat": 4,
 "nbformat_minor": 2
}
